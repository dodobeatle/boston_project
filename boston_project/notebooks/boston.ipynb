{
 "cells": [
  {
   "cell_type": "code",
   "execution_count": null,
   "metadata": {},
   "outputs": [],
   "source": [
    "import pandas as pd \n",
    "import numpy as np\n",
    "import matplotlib.pyplot as plt\n",
    "import seaborn as sns"
   ]
  },
  {
   "cell_type": "code",
   "execution_count": null,
   "metadata": {},
   "outputs": [],
   "source": [
    "%matplotlib inline"
   ]
  },
  {
   "cell_type": "code",
   "execution_count": null,
   "metadata": {},
   "outputs": [],
   "source": [
    "boston.head()"
   ]
  },
  {
   "cell_type": "code",
   "execution_count": null,
   "metadata": {},
   "outputs": [],
   "source": [
    "boston.describe()"
   ]
  },
  {
   "cell_type": "code",
   "execution_count": null,
   "metadata": {},
   "outputs": [],
   "source": [
    "boston.describe().T"
   ]
  },
  {
   "cell_type": "code",
   "execution_count": null,
   "metadata": {},
   "outputs": [],
   "source": [
    "boston.shape"
   ]
  },
  {
   "cell_type": "code",
   "execution_count": null,
   "metadata": {},
   "outputs": [],
   "source": [
    "boston.columns"
   ]
  },
  {
   "cell_type": "code",
   "execution_count": 1,
   "metadata": {},
   "outputs": [
    {
     "ename": "NameError",
     "evalue": "name 'boston' is not defined",
     "output_type": "error",
     "traceback": [
      "\u001b[31m---------------------------------------------------------------------------\u001b[39m",
      "\u001b[31mNameError\u001b[39m                                 Traceback (most recent call last)",
      "\u001b[36mCell\u001b[39m\u001b[36m \u001b[39m\u001b[32mIn[1]\u001b[39m\u001b[32m, line 1\u001b[39m\n\u001b[32m----> \u001b[39m\u001b[32m1\u001b[39m \u001b[43mboston\u001b[49m.info()\n",
      "\u001b[31mNameError\u001b[39m: name 'boston' is not defined"
     ]
    }
   ],
   "source": [
    "boston.info()"
   ]
  },
  {
   "cell_type": "code",
   "execution_count": null,
   "metadata": {},
   "outputs": [],
   "source": [
    "boston[boston.isna()].sum()"
   ]
  },
  {
   "cell_type": "code",
   "execution_count": null,
   "metadata": {},
   "outputs": [],
   "source": [
    "sns.pairplot(data=boston)"
   ]
  },
  {
   "cell_type": "code",
   "execution_count": null,
   "metadata": {},
   "outputs": [],
   "source": [
    "correlation_matrix = boston.corr(method='pearson')\n",
    "    \n",
    "plt.figure(figsize=(10, 8))\n",
    "sns.heatmap(correlation_matrix, annot=True, cmap='coolwarm', fmt='.2f')\n",
    "plt.title('Pearson Correlation Matrix')\n",
    "plt.tight_layout()"
   ]
  },
  {
   "cell_type": "code",
   "execution_count": null,
   "metadata": {},
   "outputs": [],
   "source": [
    "def detect_outliers(df):\n",
    "    cols = list(df)\n",
    "    outliers = pd.DataFrame(columns = ['Feature', 'Number of Outliers'])\n",
    "    for column in cols:\n",
    "        if column in df.select_dtypes(include=np.number).columns:\n",
    "            q1 = df[column].quantile(0.25)\n",
    "            q3 = df[column].quantile(0.75)\n",
    "            iqr = q3 - q1\n",
    "            fence_low = q1 - (1.5*iqr)\n",
    "            fence_high = q3 + (1.5*iqr)\n",
    "            outliers = pd.concat([outliers, pd.DataFrame({'Feature':[column], 'Number of Outliers':[df.loc[(df[column] < fence_low) | (df[column] > fence_high)].shape[0]]})], ignore_index=True)\n",
    "    return outliers\n",
    "\n",
    "detect_outliers(boston)"
   ]
  },
  {
   "cell_type": "code",
   "execution_count": null,
   "metadata": {},
   "outputs": [],
   "source": [
    "\n",
    "# Create a figure for multiple boxplots\n",
    "plt.figure(figsize=(15, 10))\n",
    "\n",
    "# Loop through each column in the boston dataframe\n",
    "for i, column in enumerate(boston.columns):\n",
    "    plt.subplot(4, 4, i+1)  # Adjust grid size based on number of columns\n",
    "    sns.boxplot(y=boston[column])\n",
    "    plt.title(f'Boxplot of {column}')\n",
    "    plt.tight_layout()\n",
    "\n",
    "plt.subplots_adjust(hspace=0.5, wspace=0.3)  # Add spacing between subplots\n",
    "plt.suptitle('Boxplots for All Features', fontsize=16, y=1.02)\n",
    "plt.tight_layout()\n"
   ]
  },
  {
   "cell_type": "code",
   "execution_count": null,
   "metadata": {},
   "outputs": [],
   "source": [
    "# Create a figure with two subplots side by side\n",
    "plt.figure(figsize=(15, 6))\n",
    "\n",
    "# Subplot 1: Histogram of medv\n",
    "plt.subplot(1, 2, 1)\n",
    "sns.histplot(data=boston, x='medv', bins=60, kde=True)\n",
    "plt.title('Histogram of Median Value')\n",
    "plt.xlabel('Median Value (in $1000s)')\n",
    "plt.ylabel('Frequency')\n",
    "\n",
    "# Subplot 2: Boxplot of medv\n",
    "plt.subplot(1, 2, 2)\n",
    "sns.boxplot(y=boston['medv'])\n",
    "plt.title('Boxplot of Median Value')\n",
    "plt.ylabel('Median Value (in $1000s)')\n",
    "\n",
    "# Adjust layout\n",
    "plt.tight_layout()\n",
    "plt.show()\n"
   ]
  },
  {
   "cell_type": "code",
   "execution_count": null,
   "metadata": {},
   "outputs": [],
   "source": []
  },
  {
   "cell_type": "code",
   "execution_count": null,
   "metadata": {},
   "outputs": [],
   "source": [
    "# Create a figure for multiple boxplots\n",
    "plt.figure(figsize=(15, 10))\n",
    "\n",
    "# Loop through each column in the boston dataframe\n",
    "for i, column in enumerate(boston.columns):\n",
    "    if column != 'medv':\n",
    "        plt.subplot(4, 4, i+1)  # Adjust grid size based on number of columns\n",
    "        sns.scatterplot(x=boston[column], y=boston['medv'])\n",
    "        plt.title(f'Scatterplot of {column} vs medv')\n",
    "        plt.tight_layout()\n",
    "\n",
    "plt.subplots_adjust(hspace=0.5, wspace=0.3)  # Add spacing between subplots\n",
    "plt.suptitle('Scatterplots for All Features', fontsize=16, y=1.02)\n",
    "plt.tight_layout()\n",
    "\n",
    "# # Create a figure for scatter plots of each feature against the target variable (medv)\n",
    "# plt.figure(figsize=(15, 12))\n",
    "\n",
    "# # Get all columns except 'medv' (the target variable)\n",
    "# feature_columns = [col for col in boston.columns if col != 'medv']\n",
    "\n",
    "# # Loop through each feature column and create a scatter plot against medv\n",
    "# for i, column in enumerate(feature_columns):\n",
    "#     plt.subplot(3, 4, i+1)  # Adjust grid size based on number of features\n",
    "#     plt.scatter(boston[column], boston['medv'], alpha=0.5)\n",
    "#     plt.title(f'{column} vs medv')\n",
    "#     plt.xlabel(column)\n",
    "#     plt.ylabel('medv (Target)')\n",
    "    \n",
    "#     # Add a trend line\n",
    "#     z = np.polyfit(boston[column], boston['medv'], 1)\n",
    "#     p = np.poly1d(z)\n",
    "#     plt.plot(boston[column], p(boston[column]), \"r--\", alpha=0.8)\n",
    "\n",
    "# plt.subplots_adjust(hspace=0.5, wspace=0.3)  # Add spacing between subplots\n",
    "# plt.suptitle('Relationship Between Features and Target Variable (medv)', fontsize=16, y=1.02)\n",
    "# plt.tight_layout()\n",
    "# plt.show()\n"
   ]
  },
  {
   "cell_type": "code",
   "execution_count": null,
   "metadata": {},
   "outputs": [],
   "source": [
    "plt.figure(figsize=(15, 10))\n",
    "# Create a barplot for the 'rad' variable\n",
    "sns.countplot(x='rad', data=boston)\n",
    "plt.title('Distribution of RAD (Accessibility to Radial Highways)')\n",
    "plt.xlabel('RAD Value')\n",
    "plt.ylabel('Count')\n",
    "plt.xticks(rotation=45)\n",
    "plt.tight_layout()\n",
    "plt.show()"
   ]
  },
  {
   "cell_type": "code",
   "execution_count": null,
   "metadata": {},
   "outputs": [],
   "source": [
    "plt.figure(figsize=(15, 10))\n",
    "# Create a barplot for the 'rad' variable\n",
    "sns.countplot(x='zn', data=boston)\n",
    "plt.title('Distribution of ZN')\n",
    "plt.xlabel('RAD Value')\n",
    "plt.ylabel('Count')\n",
    "plt.xticks(rotation=45)\n",
    "plt.tight_layout()\n",
    "plt.show()"
   ]
  }
 ],
 "metadata": {
  "kernelspec": {
   "display_name": "dataeng_final",
   "language": "python",
   "name": "python3"
  },
  "language_info": {
   "codemirror_mode": {
    "name": "ipython",
    "version": 3
   },
   "file_extension": ".py",
   "mimetype": "text/x-python",
   "name": "python",
   "nbconvert_exporter": "python",
   "pygments_lexer": "ipython3",
   "version": "3.11.11"
  }
 },
 "nbformat": 4,
 "nbformat_minor": 2
}
